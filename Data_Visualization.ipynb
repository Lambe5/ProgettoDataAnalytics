{
 "cells": [
  {
   "cell_type": "code",
   "execution_count": null,
   "metadata": {},
   "outputs": [],
   "source": [
    "import matplotlib.pyplot as plt\n",
    "import pandas as pd\n",
    "import seaborn as sns"
   ]
  },
  {
   "cell_type": "code",
   "execution_count": null,
   "metadata": {},
   "outputs": [],
   "source": [
    "def load_df(path1, path2):\n",
    "    X_train = pd.read_csv(path1)\n",
    "    y_train = pd.read_csv(path2)\n",
    "    return (X_train, y_train)"
   ]
  },
  {
   "cell_type": "code",
   "execution_count": null,
   "metadata": {},
   "outputs": [],
   "source": [
    "(X_train, y_train) = load_df(\"./Datasets/Train_Test/X_train.csv\", \"./Datasets/Train_Test/y_train.csv\")"
   ]
  },
  {
   "cell_type": "code",
   "execution_count": null,
   "metadata": {},
   "outputs": [],
   "source": [
    "X_train.columns"
   ]
  },
  {
   "cell_type": "code",
   "execution_count": null,
   "metadata": {},
   "outputs": [],
   "source": [
    "def histogram(df, column_name):\n",
    "    data = df[column_name]\n",
    "    plt.xlabel('Years')\n",
    "    plt.ylabel('Frequens')\n",
    "    plt.hist(data)\n",
    "    plt.show()\n",
    "\n",
    "def all_histograms(df):\n",
    "    for col in df.columns:\n",
    "        plt.figure(figsize=(8, 6))\n",
    "        plt.hist(df[col], bins=20, color='skyblue', edgecolor='black')\n",
    "        plt.title(f'Istogramma della colonna {col}')\n",
    "        plt.xlabel('Valore')\n",
    "        plt.ylabel('Frequenza')\n",
    "        plt.grid(True)\n",
    "        plt.show()\n",
    "\n",
    "def boxplot_y():\n",
    "    data = y_train[\"Year\"]\n",
    "    plt.boxplot(data, whis=1.5)\n",
    "    plt.show()\n",
    "\n",
    "def density_plots(df, columns):\n",
    "    plt.figure(figsize=(8, 6))\n",
    "    sns.displot(data=df[columns], kind=\"kde\", fill=True)\n",
    "    plt.xticks(rotation=90)\n",
    "    plt.xlabel('Valore')\n",
    "    plt.ylabel('Densità')\n",
    "    plt.grid(True)\n",
    "    plt.show()\n",
    "\n",
    "def box_plot_outliers(df, columns):\n",
    "    sub_columns = columns\n",
    "    plt.figure(figsize=(15, 10))\n",
    "    sns.boxplot(data=df[sub_columns])\n",
    "    plt.xticks(rotation=90)\n",
    "    plt.title('Box Plot delle caratteristiche')\n",
    "    plt.show()"
   ]
  },
  {
   "cell_type": "code",
   "execution_count": null,
   "metadata": {},
   "outputs": [],
   "source": [
    "# Osservo frequenza anni\n",
    "histogram(y_train, 'Year')"
   ]
  },
  {
   "cell_type": "code",
   "execution_count": null,
   "metadata": {},
   "outputs": [],
   "source": [
    "sub_columns = X_train.columns[:]\n",
    "box_plot_outliers(X_train, sub_columns)"
   ]
  },
  {
   "cell_type": "code",
   "execution_count": null,
   "metadata": {},
   "outputs": [],
   "source": [
    "sub_columns = X_train.columns[13:20]\n",
    "box_plot_outliers(X_train, sub_columns)"
   ]
  },
  {
   "cell_type": "code",
   "execution_count": null,
   "metadata": {},
   "outputs": [],
   "source": [
    "sub_columns = X_train.columns[14:15]\n",
    "density_plots(X_train, sub_columns)"
   ]
  }
 ],
 "metadata": {
  "kernelspec": {
   "display_name": "Python 3",
   "language": "python",
   "name": "python3"
  },
  "language_info": {
   "codemirror_mode": {
    "name": "ipython",
    "version": 3
   },
   "file_extension": ".py",
   "mimetype": "text/x-python",
   "name": "python",
   "nbconvert_exporter": "python",
   "pygments_lexer": "ipython3",
   "version": "3.12.1"
  }
 },
 "nbformat": 4,
 "nbformat_minor": 2
}
