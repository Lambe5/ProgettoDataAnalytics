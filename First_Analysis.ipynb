{
 "cells": [
  {
   "cell_type": "code",
   "execution_count": null,
   "metadata": {},
   "outputs": [],
   "source": [
    "import pandas as pd\n",
    "from sklearn.model_selection import train_test_split\n",
    "# pd.set_option(\"display.max_columns\", None)\n",
    "# pd.set_option(\"display.max_rows\", None)"
   ]
  },
  {
   "cell_type": "code",
   "execution_count": null,
   "metadata": {},
   "outputs": [],
   "source": [
    "FILENAME = \"train.csv\"\n",
    "df = pd.read_csv(FILENAME)\n",
    "df.shape"
   ]
  },
  {
   "cell_type": "markdown",
   "metadata": {},
   "source": [
    "# Gestione Dati Null"
   ]
  },
  {
   "cell_type": "code",
   "execution_count": null,
   "metadata": {},
   "outputs": [],
   "source": [
    "df.isna().sum()"
   ]
  },
  {
   "cell_type": "markdown",
   "metadata": {},
   "source": [
    "# Gestisco valori duplicati"
   ]
  },
  {
   "cell_type": "code",
   "execution_count": null,
   "metadata": {},
   "outputs": [],
   "source": [
    "df = df.drop_duplicates()\n",
    "df.shape"
   ]
  },
  {
   "cell_type": "markdown",
   "metadata": {},
   "source": [
    "# Splitting del dataset"
   ]
  },
  {
   "cell_type": "code",
   "execution_count": null,
   "metadata": {},
   "outputs": [],
   "source": [
    "# Split in Train, Val e Test\n",
    "\n",
    "def train_test(dataset, save):\n",
    "    X = dataset.iloc[:, 1:]\n",
    "    y = dataset[[\"Year\"]]\n",
    "    X_train, X_test, y_train, y_test = train_test_split(X, y, test_size=0.2, random_state=42)\n",
    "\n",
    "    if (save):\n",
    "        X_train.to_csv(\"./Datasets/Train_Test/X_train.csv\", index=False)\n",
    "        y_train.to_csv(\"./Datasets/Train_Test/y_train.csv\", index=False)\n",
    "        X_test.to_csv(\"./Datasets/Train_Test/X_test.csv\", index=False)\n",
    "        y_test.to_csv(\"./Datasets/Train_Test/y_test.csv\", index=False)\n",
    "\n",
    "    return (X_train, X_test, y_train, y_test)\n",
    "\n",
    "def train_validation_test(dataset, save):\n",
    "\n",
    "    (X_train, X_test, y_train, y_test) = train_test(dataset, save)\n",
    "\n",
    "    X_train, X_val, y_train, y_val = train_test_split(X_train, y_train, test_size=0.25, random_state=42)\n",
    "\n",
    "    X_train.to_csv(\"./Datasets/Train_Val_Test/X_train.csv\", index=False)\n",
    "    y_train.to_csv(\"./Datasets/Train_Val_Test/y_train.csv\", index=False)\n",
    "    X_test.to_csv(\"./Datasets/Train_Val_Test/X_test.csv\", index=False)\n",
    "    y_test.to_csv(\"./Datasets/Train_Val_Test/y_test.csv\", index=False)\n",
    "    X_val.to_csv(\"./Datasets/Train_Val_Test/X_val.csv\", index=False)\n",
    "    y_val.to_csv(\"./Datasets/Train_Val_Test/y_val.csv\", index=False)\n",
    "\n",
    "    return(X_train, X_val, y_train, y_val, X_test, y_test)"
   ]
  },
  {
   "cell_type": "code",
   "execution_count": null,
   "metadata": {},
   "outputs": [],
   "source": [
    "# Salva i dataset\n",
    "train_test(df, True)\n",
    "train_validation_test(df, False)"
   ]
  }
 ],
 "metadata": {
  "kernelspec": {
   "display_name": "Python 3",
   "language": "python",
   "name": "python3"
  },
  "language_info": {
   "codemirror_mode": {
    "name": "ipython",
    "version": 3
   },
   "file_extension": ".py",
   "mimetype": "text/x-python",
   "name": "python",
   "nbconvert_exporter": "python",
   "pygments_lexer": "ipython3",
   "version": "3.12.1"
  }
 },
 "nbformat": 4,
 "nbformat_minor": 2
}
