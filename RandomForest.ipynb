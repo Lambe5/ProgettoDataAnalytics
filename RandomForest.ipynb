{
 "cells": [
  {
   "cell_type": "code",
   "execution_count": 1,
   "metadata": {},
   "outputs": [
    {
     "name": "stderr",
     "output_type": "stream",
     "text": [
      "C:\\Users\\User\\AppData\\Local\\Temp\\ipykernel_49272\\1034803330.py:3: DeprecationWarning: \n",
      "Pyarrow will become a required dependency of pandas in the next major release of pandas (pandas 3.0),\n",
      "(to allow more performant data types, such as the Arrow string type, and better interoperability with other libraries)\n",
      "but was not found to be installed on your system.\n",
      "If this would cause problems for you,\n",
      "please provide us feedback at https://github.com/pandas-dev/pandas/issues/54466\n",
      "        \n",
      "  import pandas as pd\n"
     ]
    }
   ],
   "source": [
    "import joblib\n",
    "import numpy as np\n",
    "import pandas as pd\n",
    "from itertools import product\n",
    "from sklearn.ensemble import RandomForestRegressor\n",
    "from sklearn.metrics import mean_squared_error, mean_absolute_error, mean_absolute_percentage_error, r2_score\n",
    "from sklearn.model_selection import GridSearchCV\n",
    "import first_analysis"
   ]
  },
  {
   "cell_type": "code",
   "execution_count": 2,
   "metadata": {},
   "outputs": [],
   "source": [
    "def random_forest_cv(X_train, y_train, X_val, y_val, num_fold = 10):\n",
    "    param_grid = {\n",
    "        'n_estimators': [100, 150, 200, 250, 300, 350],\n",
    "        'max_depth': list(range(20, 200, 20)),\n",
    "        'min_samples_split': list(range(10, 30, 5)),\n",
    "        'max_features': ['sqrt', 'log2', None]\n",
    "    }\n",
    "    \n",
    "    random_forest = RandomForestRegressor(random_state=42)\n",
    "    \n",
    "    grid_search = GridSearchCV(estimator=random_forest, param_grid=param_grid, cv=num_fold, scoring='neg_mean_squared_error')\n",
    "    grid_search.fit(X_train, y_train)\n",
    "    \n",
    "    best_model = grid_search.best_estimator_\n",
    "    \n",
    "    \n",
    "    predizioni_val = best_model.predict(X_val)\n",
    "    \n",
    "    mse_val = mean_squared_error(y_val, predizioni_val)\n",
    "    mae_val = mean_absolute_error(y_val, predizioni_val)\n",
    "    r2_val = r2_score(y_val, predizioni_val)\n",
    "    mape_val = mean_absolute_percentage_error(y_val, predizioni_val)\n",
    "    \n",
    "    return best_model, grid_search.best_params_, mse_val, mae_val, r2_val, mape_val"
   ]
  },
  {
   "cell_type": "code",
   "execution_count": 2,
   "metadata": {},
   "outputs": [],
   "source": [
    "# Testa solo con PCA e no outliers --> perchè altrimenti troppe colonne\n",
    "X_train_PCA = np.load(\"./Datasets/Train_Val_Test/PCA/no_outliers/principals_components_train.npy\")\n",
    "X_val_PCA = np.load(\"./Datasets/Train_Val_Test/PCA/no_outliers/principals_components_val.npy\")\n",
    "y_train, y_val = first_analysis.load_df(\"./Datasets/Train_Val_Test/y_train.csv\", \"./Datasets/Train_Val_Test/y_val.csv\")"
   ]
  },
  {
   "cell_type": "code",
   "execution_count": 5,
   "metadata": {},
   "outputs": [],
   "source": [
    "X_train_PCA = np.load(\"./Datasets/Train_Val_Test/PCA/principals_components_train.npy\")\n"
   ]
  },
  {
   "cell_type": "code",
   "execution_count": 6,
   "metadata": {},
   "outputs": [
    {
     "data": {
      "text/plain": [
       "151273"
      ]
     },
     "execution_count": 6,
     "metadata": {},
     "output_type": "execute_result"
    }
   ],
   "source": [
    "len(X_train_PCA)"
   ]
  },
  {
   "cell_type": "code",
   "execution_count": null,
   "metadata": {},
   "outputs": [],
   "source": [
    "best_model, bestparams, mse, mae, r2, mape = random_forest_cv(X_train_PCA, y_train, X_val_PCA, y_val)"
   ]
  },
  {
   "cell_type": "code",
   "execution_count": null,
   "metadata": {},
   "outputs": [],
   "source": [
    "joblib.dump(best_model, './models/random_forest.save')"
   ]
  }
 ],
 "metadata": {
  "kernelspec": {
   "display_name": "Python 3",
   "language": "python",
   "name": "python3"
  },
  "language_info": {
   "codemirror_mode": {
    "name": "ipython",
    "version": 3
   },
   "file_extension": ".py",
   "mimetype": "text/x-python",
   "name": "python",
   "nbconvert_exporter": "python",
   "pygments_lexer": "ipython3",
   "version": "3.12.1"
  }
 },
 "nbformat": 4,
 "nbformat_minor": 2
}
