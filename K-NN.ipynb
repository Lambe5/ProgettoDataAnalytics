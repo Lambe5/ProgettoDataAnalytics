{
 "cells": [
  {
   "cell_type": "code",
   "execution_count": null,
   "metadata": {},
   "outputs": [],
   "source": [
    "from sklearn.metrics import mean_squared_error, r2_score, mean_absolute_error, mean_absolute_percentage_error\n",
    "import pandas as pd\n",
    "import numpy as np\n",
    "from sklearn.neighbors import KNeighborsRegressor\n",
    "import matplotlib.pyplot as plt\n",
    "from sklearn.model_selection import GridSearchCV\n",
    "import joblib\n",
    "import first_analysis"
   ]
  },
  {
   "cell_type": "code",
   "execution_count": null,
   "metadata": {},
   "outputs": [],
   "source": [
    "def grid_search_knn(X_train, y_train, X_val, y_val, num_neighbors_list, distance_metrics_list, num_folds=10):\n",
    "    param_grid = {\n",
    "        'n_neighbors': num_neighbors_list,\n",
    "        'metric': distance_metrics_list\n",
    "    }\n",
    "    \n",
    "    knn = KNeighborsRegressor()\n",
    "    \n",
    "    grid_search = GridSearchCV(estimator=knn, param_grid=param_grid, cv=num_folds, scoring='neg_mean_squared_error')\n",
    "    grid_search.fit(X_train, y_train)\n",
    "    \n",
    "    results = []\n",
    "    for i in range(len(grid_search.cv_results_['params'])):\n",
    "        params = grid_search.cv_results_['params'][i]\n",
    "        knn = KNeighborsRegressor(**params)\n",
    "        knn.fit(X_train, y_train)\n",
    "        predictions = knn.predict(X_val)\n",
    "        \n",
    "        mae_val = mean_absolute_error(y_val, predictions)\n",
    "        mse_val = mean_squared_error(y_val, predictions)\n",
    "\n",
    "        results.append((params['n_neighbors'], params['metric'], mae_val, mse_val))\n",
    "    \n",
    "    best_model = grid_search.best_estimator_\n",
    "    \n",
    "    predizioni_val = best_model.predict(X_val)\n",
    "    \n",
    "    mse_val = mean_squared_error(y_val, predizioni_val)\n",
    "    mae_val = mean_absolute_error(y_val, predizioni_val)\n",
    "    r2_val = r2_score(y_val, predizioni_val)\n",
    "    mape_val = mean_absolute_percentage_error(y_val, predizioni_val)\n",
    "    \n",
    "    return best_model, grid_search.best_params_, mse_val, mae_val, r2_val, mape_val, results\n"
   ]
  },
  {
   "cell_type": "code",
   "execution_count": null,
   "metadata": {},
   "outputs": [],
   "source": [
    "# DA PROVARE CON DIVERSI DATASET\n",
    "X_train_scaled = np.load(\"./Datasets/Train_Val_Test/Scaled/X_train_scaled.npy\")\n",
    "X_val_scaled = np.load(\"./Datasets/Train_Val_Test/Scaled/X_val_scaled.npy\")\n",
    "y_train, y_val = first_analysis.load_df(\"./Datasets/Train_Val_Test/y_train.csv\", \"./Datasets/Train_Val_Test/y_val.csv\")"
   ]
  },
  {
   "cell_type": "code",
   "execution_count": null,
   "metadata": {},
   "outputs": [],
   "source": [
    "num_neighbors_list = list(range(1, 41))\n",
    "distance_metrics_list = ['euclidean', 'manhattan']\n",
    "\n",
    "best_model, best_params, mse_val, mae_val, r2_val, mape_val, results_plt = grid_search_knn(X_train_scaled, y_train, X_val_scaled, y_val, num_neighbors_list, distance_metrics_list)"
   ]
  },
  {
   "cell_type": "code",
   "execution_count": null,
   "metadata": {},
   "outputs": [],
   "source": [
    "# Filtra i risultati per distanza euclidea\n",
    "euclidean_results = [(n, mse) for n, m, mae, mse in results_plt if m == 'euclidean']\n",
    "neighbors = [item[0] for item in euclidean_results]\n",
    "mse_values = [item[1] for item in euclidean_results]\n",
    "\n",
    "# Creazione del grafico\n",
    "plt.figure(figsize=(10, 6))\n",
    "plt.plot(neighbors, mse_values, marker='o', linestyle='-', color='b')\n",
    "plt.title('MSE in funzione del numero di vicini (distanza euclidea)')\n",
    "plt.xlabel('Numero di vicini')\n",
    "plt.ylabel('Mean Squared Error (MSE)')\n",
    "plt.grid(True)\n",
    "plt.show()\n"
   ]
  },
  {
   "cell_type": "code",
   "execution_count": null,
   "metadata": {},
   "outputs": [],
   "source": [
    "joblib.dump(best_model, './models/knn_model.save')"
   ]
  }
 ],
 "metadata": {
  "kernelspec": {
   "display_name": "Python 3",
   "language": "python",
   "name": "python3"
  },
  "language_info": {
   "codemirror_mode": {
    "name": "ipython",
    "version": 3
   },
   "file_extension": ".py",
   "mimetype": "text/x-python",
   "name": "python",
   "nbconvert_exporter": "python",
   "pygments_lexer": "ipython3",
   "version": "3.12.1"
  }
 },
 "nbformat": 4,
 "nbformat_minor": 2
}
