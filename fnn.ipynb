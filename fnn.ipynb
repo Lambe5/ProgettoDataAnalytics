{
 "cells": [
  {
   "cell_type": "code",
   "execution_count": null,
   "metadata": {},
   "outputs": [],
   "source": [
    "import torch\n",
    "import torch.nn as nn\n",
    "import torch.optim as optim\n",
    "from itertools import product\n",
    "from sklearn.metrics import mean_squared_error, mean_absolute_error, mean_absolute_percentage_error, r2_score\n",
    "import numpy as np\n",
    "import joblib\n",
    "import first_analysis\n",
    "import pandas as pd"
   ]
  },
  {
   "cell_type": "code",
   "execution_count": null,
   "metadata": {},
   "outputs": [],
   "source": [
    "class FeedForward(nn.Module):\n",
    "    def __init__(self, input_size, hidden_size, num_classes, depth, activation_f):\n",
    "        super(FeedForward, self).__init__()\n",
    "        \n",
    "        function = None\n",
    "\n",
    "        if activation_f == 'ReLU':\n",
    "            function = nn.ReLU()\n",
    "        elif activation_f == 'Tanh':\n",
    "            function = nn.Tanh()\n",
    "        else:\n",
    "            function = nn.Sigmoid()\n",
    "\n",
    "        model = [\n",
    "            nn.Linear(input_size, hidden_size),\n",
    "            nn.BatchNorm1d(hidden_size),\n",
    "            #nn.ReLU()\n",
    "            function\n",
    "        ]\n",
    "\n",
    "        block = [\n",
    "            nn.Linear(hidden_size, hidden_size),\n",
    "            nn.BatchNorm1d(hidden_size),\n",
    "            #nn.ReLU()\n",
    "            function\n",
    "        ]\n",
    "\n",
    "        for i in range(depth):\n",
    "            model += block\n",
    "\n",
    "        \n",
    "        self.model = nn.Sequential(*model)\n",
    "        \n",
    "        self.output = nn.Linear(hidden_size, num_classes)\n",
    "        \n",
    "\n",
    "    def forward(self, x):\n",
    "        h = self.model(x)\n",
    "        out = self.output(h)\n",
    "        return out\n",
    "    \n",
    "def prepare_data(X_train, y_train, X_val, y_val):\n",
    "    X_train_tensor = torch.tensor(X_train, dtype=torch.float32)\n",
    "    y_train_tensor = torch.tensor(y_train.values, dtype=torch.float32)\n",
    "    X_val_tensor = torch.tensor(X_val, dtype=torch.float32)\n",
    "    y_val_tensor = torch.tensor(y_val.values, dtype=torch.float32)\n",
    "\n",
    "    train_dataset = torch.utils.data.TensorDataset(X_train_tensor, y_train_tensor)\n",
    "    val_dataset = torch.utils.data.TensorDataset(X_val_tensor, y_val_tensor)\n",
    "\n",
    "    return train_dataset, val_dataset\n",
    "\n",
    "def train_model(model, train_loader, criterion, optimizer, num_epochs):\n",
    "    model.train()\n",
    "    for epoch in range(num_epochs):\n",
    "        for inputs, labels in train_loader:\n",
    "            optimizer.zero_grad()\n",
    "            outputs = model(inputs)\n",
    "            loss = criterion(outputs, labels.unsqueeze(1))\n",
    "            #loss = criterion(outputs, labels)\n",
    "            loss.backward()\n",
    "            optimizer.step()\n",
    "\n",
    "def evaluate_model(model, val_loader):\n",
    "    model.eval()\n",
    "    predictions = []\n",
    "    targets = []\n",
    "    with torch.no_grad():\n",
    "        for inputs, labels in val_loader:\n",
    "            outputs = model(inputs)\n",
    "            predictions.extend(outputs.numpy())\n",
    "            targets.extend(labels.numpy())\n",
    "    predictions = np.array(predictions)\n",
    "    targets = np.array(targets)\n",
    "    mse = mean_squared_error(targets, predictions)\n",
    "    mae = mean_absolute_error(targets, predictions)\n",
    "    mape = mean_absolute_percentage_error(targets, predictions)\n",
    "    r2 = r2_score(targets, predictions)\n",
    "    return mse, mae, mape, r2"
   ]
  },
  {
   "cell_type": "code",
   "execution_count": null,
   "metadata": {},
   "outputs": [],
   "source": [
    "def val_fnn(X_train, y_train, X_val, y_val, depth_values, hidden_size_values, lr_values, activation_fs):\n",
    "    results = []\n",
    "\n",
    "    train_dataset, val_dataset = prepare_data(X_train, y_train, X_val, y_val)\n",
    "    train_loader = torch.utils.data.DataLoader(train_dataset, batch_size=64, shuffle=True)\n",
    "    val_loader = torch.utils.data.DataLoader(val_dataset, batch_size=64, shuffle=False)\n",
    "            \n",
    "    input_size = X_train.shape[1]\n",
    "    num_classes = 1\n",
    "\n",
    "    for depth, hidden_size, lr, activation_f in product(depth_values, hidden_size_values, lr_values, activation_fs):\n",
    "        #print(f\"Testing depth={depth}, hidden_size={hidden_size}, lr={lr}\")\n",
    "\n",
    "        model = FeedForward(input_size, hidden_size, num_classes, depth, activation_f)\n",
    "\n",
    "        criterion = nn.MSELoss()\n",
    "        optimizer = optim.Adam(model.parameters(), lr=lr)\n",
    "\n",
    "        num_epochs = 10\n",
    "        train_model(model, train_loader, criterion, optimizer, num_epochs)\n",
    "\n",
    "        mse, mae, mape, r2 = evaluate_model(model, val_loader)\n",
    "        \n",
    "        results.append({\n",
    "            'depth': depth,\n",
    "            'hidden_size': hidden_size,\n",
    "            'lr': lr,\n",
    "            'mse': mse,\n",
    "            'mae': mae,\n",
    "            'mape': mape,\n",
    "            'r2': r2,\n",
    "            'activation_f': activation_f\n",
    "        })\n",
    "    return results"
   ]
  },
  {
   "cell_type": "code",
   "execution_count": null,
   "metadata": {},
   "outputs": [],
   "source": [
    "# Ricordati che probabilemte qui dovrai effettuare anche del dropout e della regolarizzazione. MA PRIMA STUDIALE"
   ]
  },
  {
   "cell_type": "code",
   "execution_count": null,
   "metadata": {},
   "outputs": [],
   "source": [
    "# DA PROVARE CON DIVERSI DATASET\n",
    "X_train_scaled = np.load(\"./Datasets/Train_Val_Test/Scaled/X_train_scaled.npy\")\n",
    "X_val_scaled = np.load(\"./Datasets/Train_Val_Test/Scaled/X_val_scaled.npy\")\n",
    "y_train, y_val = first_analysis.load_df(\"./Datasets/Train_Val_Test/y_train.csv\", \"./Datasets/Train_Val_Test/y_val.csv\")"
   ]
  },
  {
   "cell_type": "code",
   "execution_count": null,
   "metadata": {},
   "outputs": [],
   "source": [
    "# X_train_scaled = X_train_scaled[:200]\n",
    "# X_val_scaled = X_val_scaled[:40]\n",
    "# y_train = y_train.head(200)\n",
    "# y_val = y_val.head(40)"
   ]
  },
  {
   "cell_type": "code",
   "execution_count": null,
   "metadata": {},
   "outputs": [],
   "source": [
    "depth_values = list(range(0, 9))\n",
    "hidden_size_values = [5, 10, 15, 20, 30, 50, 100, 200, 300, 400]\n",
    "lr_values = [0.01, 0.1]\n",
    "activation_fs = ['ReLU', 'Tanh', 'Sigmoid']"
   ]
  },
  {
   "cell_type": "code",
   "execution_count": null,
   "metadata": {},
   "outputs": [],
   "source": [
    "results = val_fnn(X_train_scaled, y_train, X_val_scaled, y_val, depth_values, hidden_size_values, lr_values, activation_fs)"
   ]
  },
  {
   "cell_type": "code",
   "execution_count": null,
   "metadata": {},
   "outputs": [],
   "source": [
    "df_res = pd.DataFrame(results)"
   ]
  },
  {
   "cell_type": "code",
   "execution_count": null,
   "metadata": {},
   "outputs": [],
   "source": [
    "df_res.to_csv(\"./df_Res_fnn.csv\")"
   ]
  },
  {
   "cell_type": "code",
   "execution_count": null,
   "metadata": {},
   "outputs": [],
   "source": [
    "# Salva modello"
   ]
  }
 ],
 "metadata": {
  "kernelspec": {
   "display_name": "Python 3",
   "language": "python",
   "name": "python3"
  },
  "language_info": {
   "codemirror_mode": {
    "name": "ipython",
    "version": 3
   },
   "file_extension": ".py",
   "mimetype": "text/x-python",
   "name": "python",
   "nbconvert_exporter": "python",
   "pygments_lexer": "ipython3",
   "version": "3.12.1"
  }
 },
 "nbformat": 4,
 "nbformat_minor": 2
}
