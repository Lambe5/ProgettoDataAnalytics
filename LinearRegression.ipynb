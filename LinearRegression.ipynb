{
 "cells": [
  {
   "cell_type": "code",
   "execution_count": 1,
   "metadata": {},
   "outputs": [
    {
     "name": "stderr",
     "output_type": "stream",
     "text": [
      "C:\\Users\\User\\AppData\\Local\\Temp\\ipykernel_26368\\1453590551.py:3: DeprecationWarning: \n",
      "Pyarrow will become a required dependency of pandas in the next major release of pandas (pandas 3.0),\n",
      "(to allow more performant data types, such as the Arrow string type, and better interoperability with other libraries)\n",
      "but was not found to be installed on your system.\n",
      "If this would cause problems for you,\n",
      "please provide us feedback at https://github.com/pandas-dev/pandas/issues/54466\n",
      "        \n",
      "  import pandas as pd\n"
     ]
    }
   ],
   "source": [
    "from sklearn.linear_model import LinearRegression\n",
    "from sklearn.metrics import mean_squared_error, r2_score, mean_absolute_error, mean_absolute_percentage_error\n",
    "import pandas as pd\n",
    "import numpy as np\n",
    "import first_analysis\n",
    "from sklearn import preprocessing\n",
    "import joblib"
   ]
  },
  {
   "cell_type": "code",
   "execution_count": 2,
   "metadata": {},
   "outputs": [],
   "source": [
    "X_train = np.load(\"./Datasets/Train_Test/Scaled/X_train_scaled.npy\")\n",
    "X_test = np.load(\"./Datasets/Train_Test/Scaled/X_test_scaled.npy\")\n",
    "y_train, y_test = first_analysis.load_df(\"./Datasets/Train_Test/y_train.csv\", \"./Datasets/Train_Test/y_test.csv\")"
   ]
  },
  {
   "cell_type": "code",
   "execution_count": 3,
   "metadata": {},
   "outputs": [
    {
     "name": "stdout",
     "output_type": "stream",
     "text": [
      "Mean Squared Error (MSE): 86.38338026455605\n",
      "Coefficienti di determinazione R²: 0.2074373912369366\n",
      "Mean Absolute Error (MAE): 6.778428766635257\n",
      "Mean Absolute Precentage Error (MAPE): 0.0034020458085066564\n"
     ]
    }
   ],
   "source": [
    "reg = LinearRegression().fit(X_train, y_train)\n",
    "\n",
    "predizioni = reg.predict(X_test)\n",
    "\n",
    "mse = mean_squared_error(y_test, predizioni)\n",
    "print(\"Mean Squared Error (MSE):\", mse)\n",
    "\n",
    "r_squared = r2_score(y_test, predizioni)\n",
    "print(\"Coefficienti di determinazione R²:\", r_squared)\n",
    "\n",
    "mae = mean_absolute_error(y_test, predizioni)\n",
    "print(\"Mean Absolute Error (MAE):\", mae)\n",
    "\n",
    "mape = mean_absolute_percentage_error(y_test, predizioni)\n",
    "print(\"Mean Absolute Precentage Error (MAPE):\", mape)"
   ]
  },
  {
   "cell_type": "code",
   "execution_count": 4,
   "metadata": {},
   "outputs": [
    {
     "data": {
      "text/plain": [
       "['./models2/linear_regression_model2.save']"
      ]
     },
     "execution_count": 4,
     "metadata": {},
     "output_type": "execute_result"
    }
   ],
   "source": [
    "joblib.dump(reg, './models2/linear_regression_model2.save') #Il modello migliore è quello addestrato sul dataset senza pulizia degli outliers"
   ]
  }
 ],
 "metadata": {
  "kernelspec": {
   "display_name": "Python 3",
   "language": "python",
   "name": "python3"
  },
  "language_info": {
   "codemirror_mode": {
    "name": "ipython",
    "version": 3
   },
   "file_extension": ".py",
   "mimetype": "text/x-python",
   "name": "python",
   "nbconvert_exporter": "python",
   "pygments_lexer": "ipython3",
   "version": "3.12.1"
  }
 },
 "nbformat": 4,
 "nbformat_minor": 2
}
