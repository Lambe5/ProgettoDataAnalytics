{
 "cells": [
  {
   "cell_type": "code",
   "execution_count": null,
   "metadata": {},
   "outputs": [],
   "source": [
    "import joblib\n",
    "import numpy as np\n",
    "from sklearn.svm import SVR\n",
    "from sklearn.metrics import mean_squared_error, mean_absolute_error, mean_absolute_percentage_error, r2_score\n",
    "from sklearn.model_selection import GridSearchCV\n",
    "import first_analysis"
   ]
  },
  {
   "cell_type": "code",
   "execution_count": null,
   "metadata": {},
   "outputs": [],
   "source": [
    "def grid_search_svr(X_train, y_train, X_val, y_val, C_values, epsilon_values, kernel_values, num_folds=10):\n",
    "    param_grid = {\n",
    "        'C': C_values,\n",
    "        'epsilon': epsilon_values,\n",
    "        'kernel': kernel_values\n",
    "    }\n",
    "    \n",
    "    svr = SVR()\n",
    "    \n",
    "    grid_search = GridSearchCV(estimator=svr, param_grid=param_grid, cv=num_folds, scoring='neg_mean_squared_error')\n",
    "    grid_search.fit(X_train, y_train)\n",
    "    \n",
    "    best_model = grid_search.best_estimator_\n",
    "    \n",
    "    predizioni_val = best_model.predict(X_val)\n",
    "    \n",
    "    mse_val = mean_squared_error(y_val, predizioni_val)\n",
    "    mae_val = mean_absolute_error(y_val, predizioni_val)\n",
    "    r2_val = r2_score(y_val, predizioni_val)\n",
    "    mape_val = mean_absolute_percentage_error(y_val, predizioni_val)\n",
    "    \n",
    "    return best_model, grid_search.best_params_, mse_val, mae_val, r2_val, mape_val"
   ]
  },
  {
   "cell_type": "code",
   "execution_count": null,
   "metadata": {},
   "outputs": [],
   "source": [
    "# DA PROVARE CON DIVERSI DATASET\n",
    "X_train_scaled = np.load(\"./Datasets/Train_Val_Test/Scaled/X_train_scaled.npy\")\n",
    "X_val_scaled = np.load(\"./Datasets/Train_Val_Test/Scaled/X_val_scaled.npy\")\n",
    "y_train, y_val = first_analysis.load_df(\"./Datasets/Train_Val_Test/y_train.csv\", \"./Datasets/Train_Val_Test/y_val.csv\")"
   ]
  },
  {
   "cell_type": "code",
   "execution_count": null,
   "metadata": {},
   "outputs": [],
   "source": [
    "# X_train_scaled = X_train_scaled[:200]\n",
    "# X_val_scaled = X_val_scaled[:40]\n",
    "# y_train = y_train.head(200)\n",
    "# y_val = y_val.head(40)"
   ]
  },
  {
   "cell_type": "code",
   "execution_count": null,
   "metadata": {},
   "outputs": [],
   "source": [
    "\n",
    "# Definisci i range di valori per gli iperparametri\n",
    "C_values = [0.1, 1, 5, 10, 20, 40, 60, 80, 100]\n",
    "epsilon_values = [0.01, 0.1, 0.3, 0.7, 1]\n",
    "kernel_values = ['linear', 'poly', 'rbf', 'sigmoid']\n",
    "\n",
    "# X_train, y_train, X_val, y_val devono essere definiti in precedenza\n",
    "best_model, best_params, mse_val, mae_val, r2_val, mape_val = grid_search_svr(X_train_scaled, y_train, X_val_scaled, y_val, C_values, epsilon_values, kernel_values)\n"
   ]
  },
  {
   "cell_type": "code",
   "execution_count": null,
   "metadata": {},
   "outputs": [],
   "source": [
    "joblib.dump(best_model, './models/svr.save')"
   ]
  }
 ],
 "metadata": {
  "kernelspec": {
   "display_name": "Python 3",
   "language": "python",
   "name": "python3"
  },
  "language_info": {
   "codemirror_mode": {
    "name": "ipython",
    "version": 3
   },
   "file_extension": ".py",
   "mimetype": "text/x-python",
   "name": "python",
   "nbconvert_exporter": "python",
   "pygments_lexer": "ipython3",
   "version": "3.12.1"
  }
 },
 "nbformat": 4,
 "nbformat_minor": 2
}
