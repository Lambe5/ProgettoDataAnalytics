{
 "cells": [
  {
   "cell_type": "markdown",
   "metadata": {},
   "source": [
    "# Load The Dataset"
   ]
  },
  {
   "cell_type": "code",
   "execution_count": 1,
   "metadata": {},
   "outputs": [
    {
     "name": "stderr",
     "output_type": "stream",
     "text": [
      "C:\\Users\\User\\AppData\\Local\\Temp\\ipykernel_16616\\1695631969.py:1: DeprecationWarning: \n",
      "Pyarrow will become a required dependency of pandas in the next major release of pandas (pandas 3.0),\n",
      "(to allow more performant data types, such as the Arrow string type, and better interoperability with other libraries)\n",
      "but was not found to be installed on your system.\n",
      "If this would cause problems for you,\n",
      "please provide us feedback at https://github.com/pandas-dev/pandas/issues/54466\n",
      "        \n",
      "  import pandas as pd\n"
     ]
    },
    {
     "data": {
      "text/plain": [
       "Index(['Year', 'S0', 'S1', 'S2', 'S3', 'S4', 'S5', 'S6', 'S7', 'S8', 'S9',\n",
       "       'S10', 'S11', 'S12', 'S13', 'S14', 'S15', 'S16', 'S17', 'S18', 'S19',\n",
       "       'S20', 'S21', 'S22', 'S23', 'S24', 'S25', 'S26', 'S27', 'S28', 'S29',\n",
       "       'S30', 'S31', 'S32', 'S33', 'S34', 'S35', 'S36', 'S37', 'S38', 'S39',\n",
       "       'S40', 'S41', 'S42', 'S43', 'S44', 'S45', 'S46', 'S47', 'S48', 'S49',\n",
       "       'S50', 'S51', 'S52', 'S53', 'S54', 'S55', 'S56', 'S57', 'S58', 'S59',\n",
       "       'S60', 'S61', 'S62', 'S63', 'S64', 'S65', 'S66', 'S67', 'S68', 'S69',\n",
       "       'S70', 'S71', 'S72', 'S73', 'S74', 'S75', 'S76', 'S77', 'S78', 'S79',\n",
       "       'S80', 'S81', 'S82', 'S83', 'S84', 'S85', 'S86', 'S87', 'S88', 'S89'],\n",
       "      dtype='object')"
      ]
     },
     "execution_count": 1,
     "metadata": {},
     "output_type": "execute_result"
    }
   ],
   "source": [
    "import pandas as pd\n",
    "import numpy as np\n",
    "from sklearn.model_selection import train_test_split\n",
    "import seaborn as sns\n",
    "from sklearn import preprocessing\n",
    "\n",
    "FILENAME = \"train.csv\"\n",
    "df = pd.read_csv(FILENAME)\n",
    "df.columns"
   ]
  },
  {
   "cell_type": "markdown",
   "metadata": {},
   "source": [
    "# Split The Dataset"
   ]
  },
  {
   "cell_type": "code",
   "execution_count": 2,
   "metadata": {},
   "outputs": [
    {
     "name": "stdout",
     "output_type": "stream",
     "text": [
      "Index(['S0', 'S1', 'S2', 'S3', 'S4', 'S5', 'S6', 'S7', 'S8', 'S9', 'S10',\n",
      "       'S11', 'S12', 'S13', 'S14', 'S15', 'S16', 'S17', 'S18', 'S19', 'S20',\n",
      "       'S21', 'S22', 'S23', 'S24', 'S25', 'S26', 'S27', 'S28', 'S29', 'S30',\n",
      "       'S31', 'S32', 'S33', 'S34', 'S35', 'S36', 'S37', 'S38', 'S39', 'S40',\n",
      "       'S41', 'S42', 'S43', 'S44', 'S45', 'S46', 'S47', 'S48', 'S49', 'S50',\n",
      "       'S51', 'S52', 'S53', 'S54', 'S55', 'S56', 'S57', 'S58', 'S59', 'S60',\n",
      "       'S61', 'S62', 'S63', 'S64', 'S65', 'S66', 'S67', 'S68', 'S69', 'S70',\n",
      "       'S71', 'S72', 'S73', 'S74', 'S75', 'S76', 'S77', 'S78', 'S79', 'S80',\n",
      "       'S81', 'S82', 'S83', 'S84', 'S85', 'S86', 'S87', 'S88', 'S89'],\n",
      "      dtype='object')\n"
     ]
    }
   ],
   "source": [
    "X = df.iloc[:, 1:]\n",
    "y = df[[\"Year\"]]\n",
    "\n",
    "X_train, X_test, y_train, y_test = train_test_split(X, y, test_size=0.2, random_state=49)\n",
    "print(X_test.columns)\n",
    "X_train, X_val, y_train, y_val = train_test_split(X_train, y_train, test_size=0.25, random_state=49)"
   ]
  },
  {
   "cell_type": "markdown",
   "metadata": {},
   "source": [
    "# Show Data Distribution"
   ]
  },
  {
   "cell_type": "code",
   "execution_count": 3,
   "metadata": {},
   "outputs": [],
   "source": [
    "import matplotlib.pyplot as plt\n",
    "\n",
    "def histogram(column_name):\n",
    "    data = X_train[column_name]\n",
    "    plt.hist(data)\n",
    "    plt.show()\n",
    "\n",
    "def all_histograms(df):\n",
    "    for col in df.columns:\n",
    "        plt.figure(figsize=(8, 6))\n",
    "        plt.hist(df[col], bins=20, color='skyblue', edgecolor='black')\n",
    "        plt.title(f'Istogramma della colonna {col}')\n",
    "        plt.xlabel('Valore')\n",
    "        plt.ylabel('Frequenza')\n",
    "        plt.grid(True)\n",
    "        plt.show()\n",
    "\n",
    "def boxplot_y():\n",
    "    data = y_train[\"Year\"]\n",
    "    plt.boxplot(data, whis=1.5)\n",
    "    plt.show()\n",
    "\n",
    "def density_plots(df):\n",
    "    for col in df.columns:\n",
    "        plt.figure(figsize=(8, 6))\n",
    "        sns.displot(df[col], kind=\"kde\", fill=True)\n",
    "        plt.title(f'Densità di probabilità della colonna {col}')\n",
    "        plt.xlabel('Valore')\n",
    "        plt.ylabel('Densità')\n",
    "        plt.grid(True)\n",
    "        plt.show()"
   ]
  },
  {
   "cell_type": "code",
   "execution_count": 4,
   "metadata": {},
   "outputs": [
    {
     "data": {
      "image/png": "[encoded data removed]",
      "text/plain": [
       "<Figure size 640x480 with 1 Axes>"
      ]
     },
     "metadata": {},
     "output_type": "display_data"
    }
   ],
   "source": [
    "histogram(\"S10\") #Essendo un problema di regressione non direi che il seguente dataset risulta sbilanciato\n"
   ]
  },
  {
   "cell_type": "code",
   "execution_count": 5,
   "metadata": {},
   "outputs": [],
   "source": [
    "#boxplot_y()"
   ]
  },
  {
   "cell_type": "code",
   "execution_count": 6,
   "metadata": {},
   "outputs": [],
   "source": [
    "#all_histograms(X_train)"
   ]
  },
  {
   "cell_type": "code",
   "execution_count": 7,
   "metadata": {},
   "outputs": [],
   "source": [
    "#density_plots(X_train)\n"
   ]
  },
  {
   "cell_type": "markdown",
   "metadata": {},
   "source": [
    "# Pre-processing"
   ]
  },
  {
   "cell_type": "code",
   "execution_count": 8,
   "metadata": {},
   "outputs": [],
   "source": [
    "#pd.set_option(\"display.max_columns\", None)\n",
    "#pd.set_option(\"display.max_rows\", None)"
   ]
  },
  {
   "cell_type": "code",
   "execution_count": 9,
   "metadata": {},
   "outputs": [],
   "source": [
    "#Normalization\n",
    "def plot_norm(x, x_normalized):\n",
    "    plt.subplot(2, 1, 1)\n",
    "    plt.plot(x)\n",
    "    plt.subplot(2, 1, 2)\n",
    "    plt.plot(x_normalized)\n",
    "    plt.show()\n",
    "\n",
    "def norm(df, column_name, order):\n",
    "    x = df[column_name]\n",
    "    x_norm1 = np.linalg.norm(x, ord=order)\n",
    "    x_normalized = x / x_norm1\n",
    "    df[column_name] = x_normalized\n",
    "    #plot_norm(x, x_normalized)\n",
    "    if order == 1:\n",
    "        print(sum(x_normalized))\n",
    "    if order == 2:\n",
    "        print(sum(x_normalized**2))\n",
    "    if order == np.inf:\n",
    "        print(max(x_normalized))\n",
    "\n",
    "X_train_norm1 = X_train.copy()\n",
    "X_train_norm2 = X_train.copy()\n",
    "X_train_normInf = X_train.copy()"
   ]
  },
  {
   "cell_type": "code",
   "execution_count": 10,
   "metadata": {},
   "outputs": [],
   "source": [
    "#MinMax Scaling\n",
    "min_max_scaler = preprocessing.MinMaxScaler()\n",
    "min_max_scaler.fit(X_train)\n",
    "X_train_minmax = min_max_scaler.transform(X_train)\n",
    "X_test_minmax = min_max_scaler.transform(X_test)"
   ]
  },
  {
   "cell_type": "code",
   "execution_count": 11,
   "metadata": {},
   "outputs": [],
   "source": [
    "#Standardization\n",
    "scaler = preprocessing.StandardScaler()\n",
    "#Addestramento\n",
    "scaler.fit(X_train)\n",
    "#Applicazione\n",
    "X_train_scaled = scaler.transform(X_train)\n",
    "X_test_scaled = scaler.transform(X_test)"
   ]
  },
  {
   "cell_type": "markdown",
   "metadata": {},
   "source": [
    "PCA"
   ]
  },
  {
   "cell_type": "code",
   "execution_count": 21,
   "metadata": {},
   "outputs": [
    {
     "name": "stdout",
     "output_type": "stream",
     "text": [
      "          PC1       PC2       PC3       PC4       PC5       PC6       PC7  \\\n",
      "S0  -0.158264 -0.199249  0.042420  0.003845  0.030195 -0.069747 -0.062343   \n",
      "S1  -0.060486 -0.205318  0.041608 -0.063648  0.149725 -0.007570 -0.027172   \n",
      "S2  -0.084909  0.046220  0.165580 -0.082910 -0.009048 -0.155015 -0.228194   \n",
      "S3   0.097862 -0.129307 -0.180529 -0.157563  0.051323 -0.147976 -0.036607   \n",
      "S4   0.088771  0.068812 -0.044914  0.017826  0.133202  0.095942 -0.030355   \n",
      "..        ...       ...       ...       ...       ...       ...       ...   \n",
      "S85  0.048564 -0.044518  0.004543  0.097920 -0.014563 -0.036001 -0.012931   \n",
      "S86 -0.008654  0.007972 -0.011753 -0.041592 -0.042130 -0.101043 -0.116931   \n",
      "S87  0.073481 -0.009060 -0.052894 -0.110534 -0.097487 -0.135253  0.037599   \n",
      "S88  0.021496  0.051113 -0.086320 -0.035641 -0.064645  0.024863  0.060581   \n",
      "S89  0.034225  0.092971 -0.002633 -0.065650 -0.114324 -0.038773 -0.074133   \n",
      "\n",
      "          PC8       PC9      PC10  ...      PC81      PC82      PC83  \\\n",
      "S0   0.137267  0.012368 -0.081530  ... -0.099570  0.111155 -0.116640   \n",
      "S1   0.113302  0.012459 -0.180261  ...  0.082650 -0.124994  0.149322   \n",
      "S2   0.055178  0.128593  0.052732  ...  0.178477 -0.088500  0.137210   \n",
      "S3  -0.022828  0.130967  0.023912  ... -0.080641  0.071364 -0.169605   \n",
      "S4  -0.047739 -0.069536  0.217049  ... -0.036899  0.010151 -0.023624   \n",
      "..        ...       ...       ...  ...       ...       ...       ...   \n",
      "S85 -0.006955  0.067856 -0.244197  ...  0.025250  0.050210  0.006978   \n",
      "S86  0.171195 -0.208528 -0.111531  ... -0.009630  0.016436 -0.019875   \n",
      "S87 -0.052791  0.254480 -0.174230  ... -0.143799 -0.079743  0.070634   \n",
      "S88  0.055193  0.067125 -0.147597  ... -0.067904 -0.029479 -0.004608   \n",
      "S89  0.038017  0.080515 -0.070207  ...  0.059799  0.044591 -0.029327   \n",
      "\n",
      "         PC84      PC85      PC86      PC87      PC88      PC89      PC90  \n",
      "S0   0.068357 -0.048086  0.068835  0.094727  0.048822 -0.010641  0.025312  \n",
      "S1  -0.174748  0.039043 -0.151448 -0.012584  0.012159  0.010968 -0.088752  \n",
      "S2   0.275004  0.125776  0.120966 -0.282335 -0.117245 -0.036183 -0.251171  \n",
      "S3  -0.137027  0.033135 -0.033558  0.277312 -0.007661 -0.070718  0.568202  \n",
      "S4  -0.021664 -0.058608  0.011173  0.028081  0.020347  0.044205 -0.074281  \n",
      "..        ...       ...       ...       ...       ...       ...       ...  \n",
      "S85  0.015888  0.014094  0.034621  0.037624  0.024748 -0.038988  0.031849  \n",
      "S86  0.028334  0.016274  0.023427  0.008045  0.023935 -0.029786  0.002246  \n",
      "S87  0.166013  0.100616  0.017609 -0.042862  0.130582 -0.046674 -0.019845  \n",
      "S88  0.002334 -0.003746 -0.019078 -0.034645 -0.016236  0.013881 -0.001551  \n",
      "S89 -0.054903 -0.038044 -0.019063  0.035062 -0.040859  0.022049  0.004071  \n",
      "\n",
      "[90 rows x 90 columns]\n"
     ]
    }
   ],
   "source": [
    "from sklearn.decomposition import PCA\n",
    "\n",
    "pca = PCA()\n",
    "principals_components = pca.fit_transform(X_train_scaled)\n",
    "\n",
    "loadings = pd.DataFrame(pca.components_.T, columns=[f'PC{i}' for i in range(1, len(X_train.columns) + 1)], index=X_train.columns)\n",
    "print(loadings)"
   ]
  },
  {
   "cell_type": "code",
   "execution_count": 30,
   "metadata": {},
   "outputs": [
    {
     "name": "stdout",
     "output_type": "stream",
     "text": [
      "PC1: \n",
      "PC2: \n",
      "PC3: \n",
      "PC4: S64\n",
      "PC5: \n",
      "PC6: \n",
      "PC7: S27\n",
      "PC8: \n",
      "PC9: \n",
      "PC10: \n",
      "PC11: S84\n",
      "PC12: \n",
      "PC13: S53\n",
      "PC14: \n",
      "PC15: \n",
      "PC16: S11\n",
      "PC17: S85\n",
      "PC18: \n",
      "PC19: S46\n",
      "PC20: S49\n",
      "PC21: S5, S67\n",
      "PC22: \n",
      "PC23: S89\n",
      "PC24: S8\n",
      "PC25: S63\n",
      "PC26: \n",
      "PC27: \n",
      "PC28: S54\n",
      "PC29: \n",
      "PC30: S61\n",
      "PC31: \n",
      "PC32: S49\n",
      "PC33: S43\n",
      "PC34: \n",
      "PC35: S11\n",
      "PC36: S4\n",
      "PC37: S27\n",
      "PC38: \n",
      "PC39: S88\n",
      "PC40: S61\n",
      "PC41: \n",
      "PC42: \n",
      "PC43: S4\n",
      "PC44: \n",
      "PC45: S30\n",
      "PC46: \n",
      "PC47: S38\n",
      "PC48: \n",
      "PC49: S42\n",
      "PC50: \n",
      "PC51: S31\n",
      "PC52: S31, S64\n",
      "PC53: S76\n",
      "PC54: S29\n",
      "PC55: \n",
      "PC56: \n",
      "PC57: S34, S68\n",
      "PC58: S60\n",
      "PC59: S42\n",
      "PC60: S13\n",
      "PC61: \n",
      "PC62: \n",
      "PC63: \n",
      "PC64: S30, S44, S50\n",
      "PC65: \n",
      "PC66: \n",
      "PC67: S48\n",
      "PC68: S53, S57\n",
      "PC69: \n",
      "PC70: S48\n",
      "PC71: S57, S58\n",
      "PC72: S33\n",
      "PC73: S16\n",
      "PC74: S0\n",
      "PC75: S41, S58\n",
      "PC76: S13, S64\n",
      "PC77: S7, S59\n",
      "PC78: S18, S19\n",
      "PC79: S59, S80\n",
      "PC80: S23\n",
      "PC81: S23, S78\n",
      "PC82: S9\n",
      "PC83: S15, S18\n",
      "PC84: S20\n",
      "PC85: S22, S26\n",
      "PC86: S19, S20, S32\n",
      "PC87: S19, S21\n",
      "PC88: S15, S17, S22\n",
      "PC89: S17, S22\n",
      "PC90: S3, S5, S10\n"
     ]
    }
   ],
   "source": [
    "# Set a threshold for which features to extract\n",
    "threshold = 0.3\n",
    "\n",
    "# Find features with loadings above the threshold for each principal component\n",
    "important_features = {}\n",
    "for column in loadings.columns:\n",
    "    important_features[column] = loadings.index[loadings[column].abs() > threshold].tolist()\n",
    "\n",
    "# Now 'important_features' dictionary contains the important features for each PC\n",
    "for pc, features in important_features.items():\n",
    "    print(f\"{pc}: {', '.join(features)}\")"
   ]
  },
  {
   "cell_type": "code",
   "execution_count": 34,
   "metadata": {},
   "outputs": [
    {
     "data": {
      "image/png": "[encoded data removed]",
      "text/plain": [
       "<Figure size 800x500 with 1 Axes>"
      ]
     },
     "metadata": {},
     "output_type": "display_data"
    },
    {
     "data": {
      "image/png": "[encoded data removed]",
      "text/plain": [
       "<Figure size 800x500 with 1 Axes>"
      ]
     },
     "metadata": {},
     "output_type": "display_data"
    }
   ],
   "source": [
    "import numpy as np\n",
    "# Create a scree plot\n",
    "plt.figure(figsize=(8,5))\n",
    "plt.plot(range(1, len(pca.explained_variance_ratio_) + 1), pca.explained_variance_ratio_, marker='o', linestyle='--')\n",
    "plt.title('Scree Plot')\n",
    "plt.xlabel('Number of components')\n",
    "plt.ylabel('Explained variance ratio')\n",
    "plt.show()\n",
    "\n",
    "# Calculate cumulative explained variance\n",
    "cumulative_explained_variance = np.cumsum(pca.explained_variance_ratio_)\n",
    "\n",
    "# Create a plot for cumulative explained variance\n",
    "plt.figure(figsize=(8,5))\n",
    "plt.plot(range(1, len(cumulative_explained_variance) + 1), cumulative_explained_variance, marker='o', linestyle='--')\n",
    "plt.title('Cumulative Explained Variance')\n",
    "plt.xlabel('Number of components')\n",
    "plt.ylabel('Cumulative explained variance')\n",
    "plt.axhline(y=0.9, color='r', linestyle='-')  # 90% variance line\n",
    "plt.text(0.5, 0.85, '90% cut-off threshold', color = 'red', fontsize=16)\n",
    "plt.show()"
   ]
  },
  {
   "cell_type": "markdown",
   "metadata": {},
   "source": [
    "# Modeling"
   ]
  },
  {
   "cell_type": "markdown",
   "metadata": {},
   "source": [
    "Linear-Regressor"
   ]
  },
  {
   "cell_type": "code",
   "execution_count": 12,
   "metadata": {},
   "outputs": [
    {
     "name": "stdout",
     "output_type": "stream",
     "text": [
      "Mean Squared Error (MSE): 84.41033301254126\n",
      "Coefficienti di determinazione R²: 0.23053951540571493\n"
     ]
    }
   ],
   "source": [
    "#Linear-Regressor\n",
    "from sklearn.linear_model import LinearRegression\n",
    "from sklearn.metrics import mean_squared_error, r2_score\n",
    "\n",
    "reg = LinearRegression().fit(X_train, y_train)\n",
    "\n",
    "predizioni = reg.predict(X_test)\n",
    "\n",
    "mse = mean_squared_error(y_test, predizioni)\n",
    "print(\"Mean Squared Error (MSE):\", mse)\n",
    "\n",
    "r_squared = r2_score(y_test, predizioni)\n",
    "print(\"Coefficienti di determinazione R²:\", r_squared)"
   ]
  },
  {
   "cell_type": "code",
   "execution_count": 13,
   "metadata": {},
   "outputs": [
    {
     "name": "stdout",
     "output_type": "stream",
     "text": [
      "Mean Squared Error (MSE): 84.41033301254129\n",
      "Coefficienti di determinazione R²: 0.2305395154057146\n"
     ]
    }
   ],
   "source": [
    "reg = LinearRegression().fit(X_train_scaled, y_train)\n",
    "\n",
    "predizioni = reg.predict(X_test_scaled)\n",
    "\n",
    "mse = mean_squared_error(y_test, predizioni)\n",
    "print(\"Mean Squared Error (MSE):\", mse)\n",
    "\n",
    "r_squared = r2_score(y_test, predizioni)\n",
    "print(\"Coefficienti di determinazione R²:\", r_squared)"
   ]
  },
  {
   "cell_type": "code",
   "execution_count": 14,
   "metadata": {},
   "outputs": [
    {
     "name": "stdout",
     "output_type": "stream",
     "text": [
      "Mean Squared Error (MSE): 84.41033301254127\n",
      "Coefficienti di determinazione R²: 0.2305395154057147\n"
     ]
    }
   ],
   "source": [
    "reg = LinearRegression().fit(X_train_minmax, y_train)\n",
    "\n",
    "predizioni = reg.predict(X_test_minmax)\n",
    "\n",
    "mse = mean_squared_error(y_test, predizioni)\n",
    "print(\"Mean Squared Error (MSE):\", mse)\n",
    "\n",
    "r_squared = r2_score(y_test, predizioni)\n",
    "print(\"Coefficienti di determinazione R²:\", r_squared)"
   ]
  },
  {
   "cell_type": "markdown",
   "metadata": {},
   "source": [
    "Random-Forest-Regressor"
   ]
  },
  {
   "cell_type": "code",
   "execution_count": 15,
   "metadata": {},
   "outputs": [
    {
     "name": "stderr",
     "output_type": "stream",
     "text": [
      "c:\\Users\\User\\AppData\\Local\\Programs\\Python\\Python312\\Lib\\site-packages\\sklearn\\base.py:1351: DataConversionWarning: A column-vector y was passed when a 1d array was expected. Please change the shape of y to (n_samples,), for example using ravel().\n",
      "  return fit_method(estimator, *args, **kwargs)\n",
      "c:\\Users\\User\\AppData\\Local\\Programs\\Python\\Python312\\Lib\\site-packages\\sklearn\\base.py:1351: DataConversionWarning: A column-vector y was passed when a 1d array was expected. Please change the shape of y to (n_samples,), for example using ravel().\n",
      "  return fit_method(estimator, *args, **kwargs)\n",
      "c:\\Users\\User\\AppData\\Local\\Programs\\Python\\Python312\\Lib\\site-packages\\sklearn\\base.py:1351: DataConversionWarning: A column-vector y was passed when a 1d array was expected. Please change the shape of y to (n_samples,), for example using ravel().\n",
      "  return fit_method(estimator, *args, **kwargs)\n",
      "c:\\Users\\User\\AppData\\Local\\Programs\\Python\\Python312\\Lib\\site-packages\\sklearn\\base.py:1351: DataConversionWarning: A column-vector y was passed when a 1d array was expected. Please change the shape of y to (n_samples,), for example using ravel().\n",
      "  return fit_method(estimator, *args, **kwargs)\n",
      "c:\\Users\\User\\AppData\\Local\\Programs\\Python\\Python312\\Lib\\site-packages\\sklearn\\base.py:1351: DataConversionWarning: A column-vector y was passed when a 1d array was expected. Please change the shape of y to (n_samples,), for example using ravel().\n",
      "  return fit_method(estimator, *args, **kwargs)\n"
     ]
    }
   ],
   "source": [
    "# from sklearn.ensemble import RandomForestRegressor\n",
    "\n",
    "# n_estimators_values = [10, 50, 100, 200, 300]\n",
    "# mse_values = []\n",
    "\n",
    "# for n_estimators in n_estimators_values:\n",
    "#     modello_random_forest = RandomForestRegressor(n_estimators=n_estimators, random_state=42)\n",
    "    \n",
    "#     modello_random_forest.fit(X_train, y_train)\n",
    "    \n",
    "#     predizioni_val = modello_random_forest.predict(X_val)\n",
    "    \n",
    "#     mse_val = mean_squared_error(y_val, predizioni_val)\n",
    "    \n",
    "#     mse_values.append(mse_val)\n",
    "\n",
    "# # Plot dei risultati\n",
    "# plt.figure(figsize=(10, 6))\n",
    "# plt.plot(n_estimators_values, mse_values, marker='o', linestyle='-')\n",
    "# plt.title('MSE al variare del numero di alberi nel RandomForestRegressor')\n",
    "# plt.xlabel('Numero di alberi')\n",
    "# plt.ylabel('MSE')\n",
    "# plt.grid(True)\n",
    "# plt.show()"
   ]
  },
  {
   "cell_type": "markdown",
   "metadata": {},
   "source": [
    "SVM"
   ]
  },
  {
   "cell_type": "markdown",
   "metadata": {},
   "source": [
    "KNN"
   ]
  }
 ],
 "metadata": {
  "kernelspec": {
   "display_name": "Python 3",
   "language": "python",
   "name": "python3"
  },
  "language_info": {
   "codemirror_mode": {
    "name": "ipython",
    "version": 3
   },
   "file_extension": ".py",
   "mimetype": "text/x-python",
   "name": "python",
   "nbconvert_exporter": "python",
   "pygments_lexer": "ipython3",
   "version": "3.12.1"
  }
 },
 "nbformat": 4,
 "nbformat_minor": 2
}
