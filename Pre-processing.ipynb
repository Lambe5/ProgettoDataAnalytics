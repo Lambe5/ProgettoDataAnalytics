{
 "cells": [
  {
   "cell_type": "code",
   "execution_count": null,
   "metadata": {},
   "outputs": [],
   "source": [
    "import pandas as pd\n",
    "from sklearn import preprocessing\n",
    "import numpy as np\n",
    "from sklearn.decomposition import PCA\n",
    "import matplotlib.pyplot as plt\n"
   ]
  },
  {
   "cell_type": "code",
   "execution_count": null,
   "metadata": {},
   "outputs": [],
   "source": [
    "def load_df(path1, path2):\n",
    "    X_train = pd.read_csv(path1)\n",
    "    y_train = pd.read_csv(path2)\n",
    "    return (X_train, y_train)"
   ]
  },
  {
   "cell_type": "code",
   "execution_count": null,
   "metadata": {},
   "outputs": [],
   "source": [
    "# Prendo i set dalla cartella Train_Test\n",
    "\n",
    "(X_train, y_train) = load_df(\"./Datasets/Train_Test/X_train.csv\", \"./Datasets/Train_Test/y_train.csv\")\n",
    "(X_test, y_test) = load_df(\"./Datasets/Train_Test/X_test.csv\", \"./Datasets/Train_Test/y_test.csv\")"
   ]
  },
  {
   "cell_type": "code",
   "execution_count": null,
   "metadata": {},
   "outputs": [],
   "source": [
    "# Prendo i set dalla cartella Train_Val_Test\n",
    "\n",
    "(X_train2, y_train2) = load_df(\"./Datasets/Train_Val_Test/X_train.csv\", \"./Datasets/Train_Val_Test/y_train.csv\")\n",
    "(X_test2, y_test2) = load_df(\"./Datasets/Train_Val_Test/X_test.csv\", \"./Datasets/Train_Val_Test/y_test.csv\")\n",
    "(X_val2, y_val2) = load_df(\"./Datasets/Train_Val_Test/X_val.csv\", \"./Datasets/Train_Val_Test/y_val.csv\")"
   ]
  },
  {
   "cell_type": "markdown",
   "metadata": {},
   "source": [
    "# Gestione Outliers"
   ]
  },
  {
   "cell_type": "code",
   "execution_count": null,
   "metadata": {},
   "outputs": [],
   "source": [
    "def handling_outliers_train(df):\n",
    "    medians = df.median()\n",
    "\n",
    "    iqr_dict = {}\n",
    "    for column in df.columns:\n",
    "        Q1 = df[column].quantile(0.25)\n",
    "        Q3 = df[column].quantile(0.75)\n",
    "        IQR = Q3 - Q1\n",
    "        iqr_dict[column] = (Q1, Q3, IQR)\n",
    "        outlier_mask = (df[column] < (Q1 - 1.5 * IQR)) | (df[column] > (Q3 + 1.5 * IQR))\n",
    "        df.loc[outlier_mask, column] = medians[column]\n",
    "    \n",
    "    return df, medians, iqr_dict\n",
    "\n",
    "def handling_outliers_test(df, medians, iqr_dict):\n",
    "    for column in df.columns:\n",
    "        if column in iqr_dict:\n",
    "            Q1, Q3, IQR = iqr_dict[column]\n",
    "            outlier_mask = (df[column] < (Q1 - 1.5 * IQR)) | (df[column] > (Q3 + 1.5 * IQR))\n",
    "            df.loc[outlier_mask, column] = medians[column]\n",
    "    \n",
    "    return df"
   ]
  },
  {
   "cell_type": "code",
   "execution_count": null,
   "metadata": {},
   "outputs": [],
   "source": [
    "# Gestisco gli outliers sulla split Test-Train\n",
    "\n",
    "X_train, medians, iqr_dict = handling_outliers_train(X_train)\n",
    "X_test = handling_outliers_test(X_test, medians, iqr_dict)"
   ]
  },
  {
   "cell_type": "code",
   "execution_count": null,
   "metadata": {},
   "outputs": [],
   "source": [
    "# Gestisco gli outliers sulla split Test-Val-Train\n",
    "\n",
    "X_train2, medians2, iqr_dict2 = handling_outliers_train(X_train2)\n",
    "X_val2 = handling_outliers_test(X_val2, medians2, iqr_dict2)\n",
    "X_test2 = handling_outliers_test(X_test2, medians2, iqr_dict2)"
   ]
  },
  {
   "cell_type": "markdown",
   "metadata": {},
   "source": [
    "# Standardizzazione"
   ]
  },
  {
   "cell_type": "code",
   "execution_count": null,
   "metadata": {},
   "outputs": [],
   "source": [
    "# Prendo i set dalla cartella Train_Val_Test\n",
    "\n",
    "(X_train_no_outliers, y_train_no_outliers) = load_df(\"./Datasets/Train_Val_Test/X_train.csv\", \"./Datasets/Train_Val_Test/y_train.csv\")\n",
    "(X_test_no_outliers, y_test_no_outliers) = load_df(\"./Datasets/Train_Val_Test/X_test.csv\", \"./Datasets/Train_Val_Test/y_test.csv\")\n",
    "(X_val_no_outliers, y_val_no_outliers) = load_df(\"./Datasets/Train_Val_Test/X_val.csv\", \"./Datasets/Train_Val_Test/y_val.csv\")"
   ]
  },
  {
   "cell_type": "code",
   "execution_count": null,
   "metadata": {},
   "outputs": [],
   "source": [
    "# Strandardizazzione sulla split Train-Test\n",
    "#Standardization\n",
    "scaler = preprocessing.StandardScaler()\n",
    "\n",
    "#Addestramento\n",
    "scaler.fit(X_train)\n",
    "\n",
    "#Applicazione\n",
    "X_train_scaled = scaler.transform(X_train)\n",
    "X_test_scaled = scaler.transform(X_test)"
   ]
  },
  {
   "cell_type": "code",
   "execution_count": null,
   "metadata": {},
   "outputs": [],
   "source": [
    "# Strandardizazzione sulla split Train-Test-Val\n",
    "#Standardization\n",
    "scaler2 = preprocessing.StandardScaler()\n",
    "\n",
    "#Addestramento\n",
    "scaler2.fit(X_train2)\n",
    "\n",
    "#Applicazione\n",
    "X_train_scaled2 = scaler.transform(X_train2)\n",
    "X_val_scaled2 = scaler.transform(X_val2)\n",
    "X_test_scaled2 = scaler.transform(X_test2)"
   ]
  },
  {
   "cell_type": "code",
   "execution_count": null,
   "metadata": {},
   "outputs": [],
   "source": [
    "# Strandardizazzione sulla split Train-Test-Val senza gestinoe outliers\n",
    "#Standardization\n",
    "scaler_no_outliers = preprocessing.StandardScaler()\n",
    "\n",
    "#Addestramento\n",
    "scaler_no_outliers.fit(X_train_no_outliers)\n",
    "\n",
    "#Applicazione\n",
    "X_train_scaled_no_outliers = scaler.transform(X_train_no_outliers)\n",
    "X_val_scaled_no_outliers = scaler.transform(X_val_no_outliers)\n",
    "X_test_scaled_no_outliers = scaler.transform(X_test_no_outliers)"
   ]
  },
  {
   "cell_type": "code",
   "execution_count": null,
   "metadata": {},
   "outputs": [],
   "source": [
    "# Salvo i dataset di Train e Test scalati\n",
    "np.save(\"./Datasets/Train_Test/Scaled/X_train_scaled.npy\", X_train_scaled)\n",
    "np.save(\"./Datasets/Train_Test/Scaled/X_test_scaled.npy\", X_test_scaled)"
   ]
  },
  {
   "cell_type": "code",
   "execution_count": null,
   "metadata": {},
   "outputs": [],
   "source": [
    "# Salvo i dataset di Train, Test e Val scalati\n",
    "np.save(\"./Datasets/Train_Val_Test/Scaled/X_train_scaled.npy\", X_train_scaled2)\n",
    "np.save(\"./Datasets/Train_Val_Test/Scaled/X_val_scaled.npy\", X_val_scaled2)\n",
    "np.save(\"./Datasets/Train_Val_Test/Scaled/X_test_scaled.npy\", X_test_scaled2)"
   ]
  },
  {
   "cell_type": "code",
   "execution_count": null,
   "metadata": {},
   "outputs": [],
   "source": [
    "# Salvo i dataset di Train, Test e Val scalati senza gestione outliers\n",
    "np.save(\"./Datasets/Train_Val_Test/Scaled/no_outliers/X_train_scaled.npy\", X_train_no_outliers)\n",
    "np.save(\"./Datasets/Train_Val_Test/Scaled/no_outliers/X_val_scaled.npy\", X_val_no_outliers)\n",
    "np.save(\"./Datasets/Train_Val_Test/Scaled/no_outliers/X_test_scaled.npy\", X_test_no_outliers)"
   ]
  },
  {
   "cell_type": "markdown",
   "metadata": {},
   "source": [
    "# PCA"
   ]
  },
  {
   "cell_type": "code",
   "execution_count": null,
   "metadata": {},
   "outputs": [],
   "source": [
    "def find_optimal_num_components(X_train_scaled):\n",
    "    pca = PCA()\n",
    "    pca.fit(X_train_scaled)\n",
    "\n",
    "    # Plot della explained variance ratio per ogni componente\n",
    "    plt.figure(figsize=(10, 6))\n",
    "    plt.plot(pca.explained_variance_ratio_, marker='o', linestyle='-')\n",
    "    plt.xlabel('Component Number')\n",
    "    plt.ylabel('Explained Variance Ratio')\n",
    "    plt.title('Explained Variance Ratio vs. Component Number')\n",
    "    plt.grid(True)\n",
    "    plt.xticks(np.arange(0, len(pca.explained_variance_ratio_), step=10))\n",
    "    plt.show()\n",
    "\n",
    "    # Plot della cumulative explained variance\n",
    "    plt.figure(figsize=(10, 6))\n",
    "    plt.plot(np.cumsum(pca.explained_variance_ratio_), marker='o', linestyle='-')\n",
    "    plt.xlabel('Number of Components')\n",
    "    plt.ylabel('Cumulative Explained Variance')\n",
    "    plt.title('Cumulative Explained Variance vs. Number of Components')\n",
    "    plt.grid(True)\n",
    "    plt.axhline(y=0.9, color='red', linestyle='-')\n",
    "    plt.text(0.5, 0.85, '90% cut-off threshold', color = 'red', fontsize=10)\n",
    "    plt.xticks(np.arange(0, len(pca.explained_variance_ratio_), step=10))\n",
    "    plt.show()\n"
   ]
  },
  {
   "cell_type": "code",
   "execution_count": null,
   "metadata": {},
   "outputs": [],
   "source": [
    "# Uso questa funzione per trovare il numero ottimale di componenti principali sulla spit Train-Test\n",
    "find_optimal_num_components(X_train_scaled)"
   ]
  },
  {
   "cell_type": "code",
   "execution_count": null,
   "metadata": {},
   "outputs": [],
   "source": [
    "# Uso questa funzione per trovare il numero ottimale di componenti principali sulla spit Train-Test-Val\n",
    "find_optimal_num_components(X_train_scaled2)"
   ]
  },
  {
   "cell_type": "code",
   "execution_count": null,
   "metadata": {},
   "outputs": [],
   "source": [
    "# Uso questa funzione per trovare il numero ottimale di componenti principali sulla spit Train-Test-Val senza gestione outliers\n",
    "find_optimal_num_components(X_train_scaled_no_outliers)"
   ]
  },
  {
   "cell_type": "code",
   "execution_count": null,
   "metadata": {},
   "outputs": [],
   "source": [
    "# Effettuo PCA sulla split Train-Test\n",
    "pca = PCA(n_components=60)\n",
    "\n",
    "principals_components_train = pca.fit_transform(X_train_scaled)\n",
    "\n",
    "# Trasforma il set di test utilizzando la stessa PCA addestrata sul set di addestramento\n",
    "principals_components_test = pca.transform(X_test_scaled)"
   ]
  },
  {
   "cell_type": "code",
   "execution_count": null,
   "metadata": {},
   "outputs": [],
   "source": [
    "# Effettuo PCA sulla split Train-Test-Val\n",
    "pca2 = PCA(n_components=60)\n",
    "\n",
    "principals_components_train2 = pca2.fit_transform(X_train_scaled2)\n",
    "\n",
    "# Trasforma il set di test utilizzando la stessa PCA addestrata sul set di addestramento\n",
    "principals_components_val2 = pca2.transform(X_val_scaled2)\n",
    "principals_components_test2 = pca2.transform(X_test_scaled2)"
   ]
  },
  {
   "cell_type": "code",
   "execution_count": null,
   "metadata": {},
   "outputs": [],
   "source": [
    "# Effettuo PCA sulla split Train-Test-Val senza gestione outliers\n",
    "pca_no_outliers = PCA(n_components=52)\n",
    "\n",
    "principals_components_train_no_outliers = pca_no_outliers.fit_transform(X_train_scaled_no_outliers)\n",
    "\n",
    "# Trasforma il set di test utilizzando la stessa PCA addestrata sul set di addestramento\n",
    "principals_components_val_no_outliers = pca_no_outliers.transform(X_val_scaled_no_outliers)\n",
    "principals_components_test_no_outliers = pca_no_outliers.transform(X_test_scaled_no_outliers)"
   ]
  },
  {
   "cell_type": "code",
   "execution_count": null,
   "metadata": {},
   "outputs": [],
   "source": [
    "# Salvo i PCA della split Train-Test\n",
    "np.save(\"./Datasets/Train_Test/PCA/principals_components_train.npy\", principals_components_train)\n",
    "np.save(\"./Datasets/Train_Test/PCA/principals_components_test.npy\", principals_components_test)"
   ]
  },
  {
   "cell_type": "code",
   "execution_count": null,
   "metadata": {},
   "outputs": [],
   "source": [
    "# Salvo i PCA della split Train-Test-Val\n",
    "np.save(\"./Datasets/Train_Val_Test/PCA/principals_components_train.npy\", principals_components_train2)\n",
    "np.save(\"./Datasets/Train_Val_Test/PCA/principals_components_val.npy\", principals_components_val2)\n",
    "np.save(\"./Datasets/Train_Val_Test/PCA/principals_components_test.npy\", principals_components_test2)"
   ]
  },
  {
   "cell_type": "code",
   "execution_count": null,
   "metadata": {},
   "outputs": [],
   "source": [
    "# Salvo i PCA della split Train-Test-Val no gestione outliers\n",
    "np.save(\"./Datasets/Train_Val_Test/PCA/no_outliers/principals_components_train.npy\", principals_components_train_no_outliers)\n",
    "np.save(\"./Datasets/Train_Val_Test/PCA/no_outliers/principals_components_val.npy\", principals_components_val_no_outliers)\n",
    "np.save(\"./Datasets/Train_Val_Test/PCA/no_outliers/principals_components_test.npy\", principals_components_test_no_outliers)"
   ]
  }
 ],
 "metadata": {
  "kernelspec": {
   "display_name": "Python 3",
   "language": "python",
   "name": "python3"
  },
  "language_info": {
   "codemirror_mode": {
    "name": "ipython",
    "version": 3
   },
   "file_extension": ".py",
   "mimetype": "text/x-python",
   "name": "python",
   "nbconvert_exporter": "python",
   "pygments_lexer": "ipython3",
   "version": "3.12.1"
  }
 },
 "nbformat": 4,
 "nbformat_minor": 2
}
